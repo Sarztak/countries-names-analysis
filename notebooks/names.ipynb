{
 "cells": [
  {
   "cell_type": "code",
   "execution_count": 5,
   "metadata": {},
   "outputs": [],
   "source": [
    "import pymongo\n",
    "import pandas as pd\n",
    "import matplotlib.pyplot as plt\n",
    "import seaborn as sns\n",
    "import requests"
   ]
  },
  {
   "cell_type": "code",
   "execution_count": 6,
   "metadata": {},
   "outputs": [
    {
     "data": {
      "text/plain": [
       "200"
      ]
     },
     "execution_count": 6,
     "metadata": {},
     "output_type": "execute_result"
    }
   ],
   "source": [
    "# collection data from API\n",
    "fields = {'fields': 'name'}\n",
    "r = requests.get(\"https://restcountries.com/v3.1/all\", params=fields)\n",
    "r.status_code"
   ]
  },
  {
   "cell_type": "code",
   "execution_count": 9,
   "metadata": {},
   "outputs": [
    {
     "data": {
      "text/plain": [
       "['admin', 'config', 'local']"
      ]
     },
     "execution_count": 9,
     "metadata": {},
     "output_type": "execute_result"
    }
   ],
   "source": [
    "# needs MongoDB installed locally\n",
    "client = pymongo.MongoClient(\"mongodb://localhost:27017/\")\n",
    "\n",
    "# create Database called Countries\n",
    "db = client['Countries']\n",
    "\n",
    "# no db is created until we publish any data\n",
    "client.list_database_names()"
   ]
  },
  {
   "cell_type": "code",
   "execution_count": 10,
   "metadata": {},
   "outputs": [
    {
     "data": {
      "text/plain": [
       "InsertManyResult([ObjectId('676c8e56c33bd7b879a1918c'), ObjectId('676c8e56c33bd7b879a1918d'), ObjectId('676c8e56c33bd7b879a1918e'), ObjectId('676c8e56c33bd7b879a1918f'), ObjectId('676c8e56c33bd7b879a19190'), ObjectId('676c8e56c33bd7b879a19191'), ObjectId('676c8e56c33bd7b879a19192'), ObjectId('676c8e56c33bd7b879a19193'), ObjectId('676c8e56c33bd7b879a19194'), ObjectId('676c8e56c33bd7b879a19195'), ObjectId('676c8e56c33bd7b879a19196'), ObjectId('676c8e56c33bd7b879a19197'), ObjectId('676c8e56c33bd7b879a19198'), ObjectId('676c8e56c33bd7b879a19199'), ObjectId('676c8e56c33bd7b879a1919a'), ObjectId('676c8e56c33bd7b879a1919b'), ObjectId('676c8e56c33bd7b879a1919c'), ObjectId('676c8e56c33bd7b879a1919d'), ObjectId('676c8e56c33bd7b879a1919e'), ObjectId('676c8e56c33bd7b879a1919f'), ObjectId('676c8e56c33bd7b879a191a0'), ObjectId('676c8e56c33bd7b879a191a1'), ObjectId('676c8e56c33bd7b879a191a2'), ObjectId('676c8e56c33bd7b879a191a3'), ObjectId('676c8e56c33bd7b879a191a4'), ObjectId('676c8e56c33bd7b879a191a5'), ObjectId('676c8e56c33bd7b879a191a6'), ObjectId('676c8e56c33bd7b879a191a7'), ObjectId('676c8e56c33bd7b879a191a8'), ObjectId('676c8e56c33bd7b879a191a9'), ObjectId('676c8e56c33bd7b879a191aa'), ObjectId('676c8e56c33bd7b879a191ab'), ObjectId('676c8e56c33bd7b879a191ac'), ObjectId('676c8e56c33bd7b879a191ad'), ObjectId('676c8e56c33bd7b879a191ae'), ObjectId('676c8e56c33bd7b879a191af'), ObjectId('676c8e56c33bd7b879a191b0'), ObjectId('676c8e56c33bd7b879a191b1'), ObjectId('676c8e56c33bd7b879a191b2'), ObjectId('676c8e56c33bd7b879a191b3'), ObjectId('676c8e56c33bd7b879a191b4'), ObjectId('676c8e56c33bd7b879a191b5'), ObjectId('676c8e56c33bd7b879a191b6'), ObjectId('676c8e56c33bd7b879a191b7'), ObjectId('676c8e56c33bd7b879a191b8'), ObjectId('676c8e56c33bd7b879a191b9'), ObjectId('676c8e56c33bd7b879a191ba'), ObjectId('676c8e56c33bd7b879a191bb'), ObjectId('676c8e56c33bd7b879a191bc'), ObjectId('676c8e56c33bd7b879a191bd'), ObjectId('676c8e56c33bd7b879a191be'), ObjectId('676c8e56c33bd7b879a191bf'), ObjectId('676c8e56c33bd7b879a191c0'), ObjectId('676c8e56c33bd7b879a191c1'), ObjectId('676c8e56c33bd7b879a191c2'), ObjectId('676c8e56c33bd7b879a191c3'), ObjectId('676c8e56c33bd7b879a191c4'), ObjectId('676c8e56c33bd7b879a191c5'), ObjectId('676c8e56c33bd7b879a191c6'), ObjectId('676c8e56c33bd7b879a191c7'), ObjectId('676c8e56c33bd7b879a191c8'), ObjectId('676c8e56c33bd7b879a191c9'), ObjectId('676c8e56c33bd7b879a191ca'), ObjectId('676c8e56c33bd7b879a191cb'), ObjectId('676c8e56c33bd7b879a191cc'), ObjectId('676c8e56c33bd7b879a191cd'), ObjectId('676c8e56c33bd7b879a191ce'), ObjectId('676c8e56c33bd7b879a191cf'), ObjectId('676c8e56c33bd7b879a191d0'), ObjectId('676c8e56c33bd7b879a191d1'), ObjectId('676c8e56c33bd7b879a191d2'), ObjectId('676c8e56c33bd7b879a191d3'), ObjectId('676c8e56c33bd7b879a191d4'), ObjectId('676c8e56c33bd7b879a191d5'), ObjectId('676c8e56c33bd7b879a191d6'), ObjectId('676c8e56c33bd7b879a191d7'), ObjectId('676c8e56c33bd7b879a191d8'), ObjectId('676c8e56c33bd7b879a191d9'), ObjectId('676c8e56c33bd7b879a191da'), ObjectId('676c8e56c33bd7b879a191db'), ObjectId('676c8e56c33bd7b879a191dc'), ObjectId('676c8e56c33bd7b879a191dd'), ObjectId('676c8e56c33bd7b879a191de'), ObjectId('676c8e56c33bd7b879a191df'), ObjectId('676c8e56c33bd7b879a191e0'), ObjectId('676c8e56c33bd7b879a191e1'), ObjectId('676c8e56c33bd7b879a191e2'), ObjectId('676c8e56c33bd7b879a191e3'), ObjectId('676c8e56c33bd7b879a191e4'), ObjectId('676c8e56c33bd7b879a191e5'), ObjectId('676c8e56c33bd7b879a191e6'), ObjectId('676c8e56c33bd7b879a191e7'), ObjectId('676c8e56c33bd7b879a191e8'), ObjectId('676c8e56c33bd7b879a191e9'), ObjectId('676c8e56c33bd7b879a191ea'), ObjectId('676c8e56c33bd7b879a191eb'), ObjectId('676c8e56c33bd7b879a191ec'), ObjectId('676c8e56c33bd7b879a191ed'), ObjectId('676c8e56c33bd7b879a191ee'), ObjectId('676c8e56c33bd7b879a191ef'), ObjectId('676c8e56c33bd7b879a191f0'), ObjectId('676c8e56c33bd7b879a191f1'), ObjectId('676c8e56c33bd7b879a191f2'), ObjectId('676c8e56c33bd7b879a191f3'), ObjectId('676c8e56c33bd7b879a191f4'), ObjectId('676c8e56c33bd7b879a191f5'), ObjectId('676c8e56c33bd7b879a191f6'), ObjectId('676c8e56c33bd7b879a191f7'), ObjectId('676c8e56c33bd7b879a191f8'), ObjectId('676c8e56c33bd7b879a191f9'), ObjectId('676c8e56c33bd7b879a191fa'), ObjectId('676c8e56c33bd7b879a191fb'), ObjectId('676c8e56c33bd7b879a191fc'), ObjectId('676c8e56c33bd7b879a191fd'), ObjectId('676c8e56c33bd7b879a191fe'), ObjectId('676c8e56c33bd7b879a191ff'), ObjectId('676c8e56c33bd7b879a19200'), ObjectId('676c8e56c33bd7b879a19201'), ObjectId('676c8e56c33bd7b879a19202'), ObjectId('676c8e56c33bd7b879a19203'), ObjectId('676c8e56c33bd7b879a19204'), ObjectId('676c8e56c33bd7b879a19205'), ObjectId('676c8e56c33bd7b879a19206'), ObjectId('676c8e56c33bd7b879a19207'), ObjectId('676c8e56c33bd7b879a19208'), ObjectId('676c8e56c33bd7b879a19209'), ObjectId('676c8e56c33bd7b879a1920a'), ObjectId('676c8e56c33bd7b879a1920b'), ObjectId('676c8e56c33bd7b879a1920c'), ObjectId('676c8e56c33bd7b879a1920d'), ObjectId('676c8e56c33bd7b879a1920e'), ObjectId('676c8e56c33bd7b879a1920f'), ObjectId('676c8e56c33bd7b879a19210'), ObjectId('676c8e56c33bd7b879a19211'), ObjectId('676c8e56c33bd7b879a19212'), ObjectId('676c8e56c33bd7b879a19213'), ObjectId('676c8e56c33bd7b879a19214'), ObjectId('676c8e56c33bd7b879a19215'), ObjectId('676c8e56c33bd7b879a19216'), ObjectId('676c8e56c33bd7b879a19217'), ObjectId('676c8e56c33bd7b879a19218'), ObjectId('676c8e56c33bd7b879a19219'), ObjectId('676c8e56c33bd7b879a1921a'), ObjectId('676c8e56c33bd7b879a1921b'), ObjectId('676c8e56c33bd7b879a1921c'), ObjectId('676c8e56c33bd7b879a1921d'), ObjectId('676c8e56c33bd7b879a1921e'), ObjectId('676c8e56c33bd7b879a1921f'), ObjectId('676c8e56c33bd7b879a19220'), ObjectId('676c8e56c33bd7b879a19221'), ObjectId('676c8e56c33bd7b879a19222'), ObjectId('676c8e56c33bd7b879a19223'), ObjectId('676c8e56c33bd7b879a19224'), ObjectId('676c8e56c33bd7b879a19225'), ObjectId('676c8e56c33bd7b879a19226'), ObjectId('676c8e56c33bd7b879a19227'), ObjectId('676c8e56c33bd7b879a19228'), ObjectId('676c8e56c33bd7b879a19229'), ObjectId('676c8e56c33bd7b879a1922a'), ObjectId('676c8e56c33bd7b879a1922b'), ObjectId('676c8e56c33bd7b879a1922c'), ObjectId('676c8e56c33bd7b879a1922d'), ObjectId('676c8e56c33bd7b879a1922e'), ObjectId('676c8e56c33bd7b879a1922f'), ObjectId('676c8e56c33bd7b879a19230'), ObjectId('676c8e56c33bd7b879a19231'), ObjectId('676c8e56c33bd7b879a19232'), ObjectId('676c8e56c33bd7b879a19233'), ObjectId('676c8e56c33bd7b879a19234'), ObjectId('676c8e56c33bd7b879a19235'), ObjectId('676c8e56c33bd7b879a19236'), ObjectId('676c8e56c33bd7b879a19237'), ObjectId('676c8e56c33bd7b879a19238'), ObjectId('676c8e56c33bd7b879a19239'), ObjectId('676c8e56c33bd7b879a1923a'), ObjectId('676c8e56c33bd7b879a1923b'), ObjectId('676c8e56c33bd7b879a1923c'), ObjectId('676c8e56c33bd7b879a1923d'), ObjectId('676c8e56c33bd7b879a1923e'), ObjectId('676c8e56c33bd7b879a1923f'), ObjectId('676c8e56c33bd7b879a19240'), ObjectId('676c8e56c33bd7b879a19241'), ObjectId('676c8e56c33bd7b879a19242'), ObjectId('676c8e56c33bd7b879a19243'), ObjectId('676c8e56c33bd7b879a19244'), ObjectId('676c8e56c33bd7b879a19245'), ObjectId('676c8e56c33bd7b879a19246'), ObjectId('676c8e56c33bd7b879a19247'), ObjectId('676c8e56c33bd7b879a19248'), ObjectId('676c8e56c33bd7b879a19249'), ObjectId('676c8e56c33bd7b879a1924a'), ObjectId('676c8e56c33bd7b879a1924b'), ObjectId('676c8e56c33bd7b879a1924c'), ObjectId('676c8e56c33bd7b879a1924d'), ObjectId('676c8e56c33bd7b879a1924e'), ObjectId('676c8e56c33bd7b879a1924f'), ObjectId('676c8e56c33bd7b879a19250'), ObjectId('676c8e56c33bd7b879a19251'), ObjectId('676c8e56c33bd7b879a19252'), ObjectId('676c8e56c33bd7b879a19253'), ObjectId('676c8e56c33bd7b879a19254'), ObjectId('676c8e56c33bd7b879a19255'), ObjectId('676c8e56c33bd7b879a19256'), ObjectId('676c8e56c33bd7b879a19257'), ObjectId('676c8e56c33bd7b879a19258'), ObjectId('676c8e56c33bd7b879a19259'), ObjectId('676c8e56c33bd7b879a1925a'), ObjectId('676c8e56c33bd7b879a1925b'), ObjectId('676c8e56c33bd7b879a1925c'), ObjectId('676c8e56c33bd7b879a1925d'), ObjectId('676c8e56c33bd7b879a1925e'), ObjectId('676c8e56c33bd7b879a1925f'), ObjectId('676c8e56c33bd7b879a19260'), ObjectId('676c8e56c33bd7b879a19261'), ObjectId('676c8e56c33bd7b879a19262'), ObjectId('676c8e56c33bd7b879a19263'), ObjectId('676c8e56c33bd7b879a19264'), ObjectId('676c8e56c33bd7b879a19265'), ObjectId('676c8e56c33bd7b879a19266'), ObjectId('676c8e56c33bd7b879a19267'), ObjectId('676c8e56c33bd7b879a19268'), ObjectId('676c8e56c33bd7b879a19269'), ObjectId('676c8e56c33bd7b879a1926a'), ObjectId('676c8e56c33bd7b879a1926b'), ObjectId('676c8e56c33bd7b879a1926c'), ObjectId('676c8e56c33bd7b879a1926d'), ObjectId('676c8e56c33bd7b879a1926e'), ObjectId('676c8e56c33bd7b879a1926f'), ObjectId('676c8e56c33bd7b879a19270'), ObjectId('676c8e56c33bd7b879a19271'), ObjectId('676c8e56c33bd7b879a19272'), ObjectId('676c8e56c33bd7b879a19273'), ObjectId('676c8e56c33bd7b879a19274'), ObjectId('676c8e56c33bd7b879a19275'), ObjectId('676c8e56c33bd7b879a19276'), ObjectId('676c8e56c33bd7b879a19277'), ObjectId('676c8e56c33bd7b879a19278'), ObjectId('676c8e56c33bd7b879a19279'), ObjectId('676c8e56c33bd7b879a1927a'), ObjectId('676c8e56c33bd7b879a1927b'), ObjectId('676c8e56c33bd7b879a1927c'), ObjectId('676c8e56c33bd7b879a1927d'), ObjectId('676c8e56c33bd7b879a1927e'), ObjectId('676c8e56c33bd7b879a1927f'), ObjectId('676c8e56c33bd7b879a19280'), ObjectId('676c8e56c33bd7b879a19281'), ObjectId('676c8e56c33bd7b879a19282'), ObjectId('676c8e56c33bd7b879a19283'), ObjectId('676c8e56c33bd7b879a19284'), ObjectId('676c8e56c33bd7b879a19285')], acknowledged=True)"
      ]
     },
     "execution_count": 10,
     "metadata": {},
     "output_type": "execute_result"
    }
   ],
   "source": [
    "# create names collection in Countries db\n",
    "names = db.names\n",
    "\n",
    "# publish all the data from the requests to names collection\n",
    "db.names.insert_many(r.json())"
   ]
  },
  {
   "cell_type": "code",
   "execution_count": 11,
   "metadata": {},
   "outputs": [
    {
     "data": {
      "text/plain": [
       "['Countries', 'admin', 'config', 'local']"
      ]
     },
     "execution_count": 11,
     "metadata": {},
     "output_type": "execute_result"
    }
   ],
   "source": [
    "client.list_database_names()"
   ]
  },
  {
   "cell_type": "code",
   "execution_count": 12,
   "metadata": {},
   "outputs": [
    {
     "data": {
      "text/plain": [
       "{'name': {'common': 'South Georgia',\n",
       "  'official': 'South Georgia and the South Sandwich Islands',\n",
       "  'nativeName': {'eng': {'official': 'South Georgia and the South Sandwich Islands',\n",
       "    'common': 'South Georgia'}}}}"
      ]
     },
     "execution_count": 12,
     "metadata": {},
     "output_type": "execute_result"
    }
   ],
   "source": [
    "r.json()[0] # schema"
   ]
  },
  {
   "cell_type": "code",
   "execution_count": 16,
   "metadata": {},
   "outputs": [
    {
     "data": {
      "text/plain": [
       "250"
      ]
     },
     "execution_count": 16,
     "metadata": {},
     "output_type": "execute_result"
    }
   ],
   "source": [
    "names.count_documents({}) # count the number of countries"
   ]
  },
  {
   "cell_type": "code",
   "execution_count": 21,
   "metadata": {},
   "outputs": [
    {
     "data": {
      "text/plain": [
       "133"
      ]
     },
     "execution_count": 21,
     "metadata": {},
     "output_type": "execute_result"
    }
   ],
   "source": [
    "query = {\n",
    "    \"name.official\" : {\"$regex\": \"(Republic|Democratic|Socialist|People)\"}\n",
    "}\n",
    "\n",
    "names.count_documents(query) # how many countries call themselves as Republic etc"
   ]
  },
  {
   "cell_type": "code",
   "execution_count": 30,
   "metadata": {},
   "outputs": [
    {
     "name": "stdout",
     "output_type": "stream",
     "text": [
      "Democratic Socialist Republic of Sri Lanka\n",
      "Socialist Republic of Vietnam\n"
     ]
    }
   ],
   "source": [
    "query = {\n",
    "    \"name.official\" : {\"$regex\": \"Socialist\"}\n",
    "}\n",
    "\n",
    "projection = {\n",
    "    \"name.official\": 1, \"_id\": 0\n",
    "}\n",
    "\n",
    "results = names.find(query, projection)\n",
    "\n",
    "for doc in results:\n",
    "    print(doc.get('name').get('official')) # find out the name of Socialists"
   ]
  },
  {
   "cell_type": "code",
   "execution_count": 31,
   "metadata": {},
   "outputs": [
    {
     "name": "stdout",
     "output_type": "stream",
     "text": [
      "Lao People's Democratic Republic\n",
      "People's Republic of China\n",
      "Democratic Socialist Republic of Sri Lanka\n",
      "People's Republic of Bangladesh\n",
      "Democratic People's Republic of Korea\n",
      "People's Democratic Republic of Algeria\n",
      "Federal Democratic Republic of Nepal\n",
      "Democratic Republic of São Tomé and Príncipe\n",
      "Federal Democratic Republic of Ethiopia\n",
      "Macao Special Administrative Region of the People's Republic of China\n",
      "Sahrawi Arab Democratic Republic\n",
      "Democratic Republic of the Congo\n",
      "Democratic Republic of Timor-Leste\n",
      "Hong Kong Special Administrative Region of the People's Republic of China\n"
     ]
    }
   ],
   "source": [
    "query = {\n",
    "    \"name.official\" : {\"$regex\": \"(Democratic|People)\"}\n",
    "}\n",
    "\n",
    "projection = {\n",
    "    \"name.official\": 1, \"_id\": 0\n",
    "}\n",
    "\n",
    "results = names.find(query, projection)\n",
    "\n",
    "for doc in results:\n",
    "    print(doc.get('name').get('official')) # find out name sake democracies"
   ]
  },
  {
   "cell_type": "code",
   "execution_count": 42,
   "metadata": {},
   "outputs": [],
   "source": [
    "# distribution of countries by native names as proxy to official languages\n",
    "# spoken in the country\n",
    "\n",
    "pipeline = [\n",
    "    { # Stage 1: count number of nativeNames\n",
    "        \"$project\" : {\n",
    "            \"numFields\": {\"$size\": {\"$objectToArray\": \"$name.nativeName\"}}\n",
    "        }\n",
    "    },\n",
    "\n",
    "    { # group the number of native names and count frequency\n",
    "        \"$group\": {\n",
    "            \"_id\": \"$numFields\",\n",
    "            \"count\": {\"$sum\": 1}\n",
    "        }\n",
    "    },\n",
    "\n",
    "    {\n",
    "        \"$sort\": {\"_id\": 1}\n",
    "    }\n",
    "\n",
    "]\n",
    "\n",
    "\n",
    "numNativeLang = [doc for doc in names.aggregate(pipeline)]"
   ]
  },
  {
   "cell_type": "code",
   "execution_count": 49,
   "metadata": {},
   "outputs": [
    {
     "data": {
      "image/png": "[encoded data removed]",
      "text/plain": [
       "<Figure size 640x480 with 1 Axes>"
      ]
     },
     "metadata": {},
     "output_type": "display_data"
    }
   ],
   "source": [
    "pd.DataFrame(numNativeLang).plot(x='_id', y='count', kind='bar');"
   ]
  },
  {
   "cell_type": "code",
   "execution_count": 58,
   "metadata": {},
   "outputs": [
    {
     "data": {
      "text/plain": [
       "[{'_id': None, 'maxNumFields': 15, 'minNumFields': 0}]"
      ]
     },
     "execution_count": 58,
     "metadata": {},
     "output_type": "execute_result"
    }
   ],
   "source": [
    "pipeline = [\n",
    "    {\n",
    "        \"$project\": {\n",
    "            \"numFields\": { \"$size\": { \"$objectToArray\": \"$name.nativeName\" } },\n",
    "        }\n",
    "    },\n",
    "    {\n",
    "        \"$group\": {\n",
    "            \"_id\": None,\n",
    "            \"maxNumFields\": { \"$max\": \"$numFields\" },\n",
    "            \"minNumFields\": { \"$min\": \"$numFields\" },\n",
    "        }\n",
    "    },\n",
    "]\n",
    "\n",
    "# Step 5: Execute the aggregation to find max and min _id\n",
    "max_min_result = list(names.aggregate(pipeline))\n",
    "\n",
    "max_min_result"
   ]
  },
  {
   "cell_type": "code",
   "execution_count": 68,
   "metadata": {},
   "outputs": [
    {
     "data": {
      "text/plain": [
       "[{'_id': ObjectId('676c8e56c33bd7b879a1927b'),\n",
       "  'name': {'common': 'Zimbabwe',\n",
       "   'nativeName': {'bwg': {'official': 'Republic of Zimbabwe',\n",
       "     'common': 'Zimbabwe'},\n",
       "    'eng': {'official': 'Republic of Zimbabwe', 'common': 'Zimbabwe'},\n",
       "    'kck': {'official': 'Republic of Zimbabwe', 'common': 'Zimbabwe'},\n",
       "    'khi': {'official': 'Republic of Zimbabwe', 'common': 'Zimbabwe'},\n",
       "    'ndc': {'official': 'Republic of Zimbabwe', 'common': 'Zimbabwe'},\n",
       "    'nde': {'official': 'Republic of Zimbabwe', 'common': 'Zimbabwe'},\n",
       "    'nya': {'official': 'Republic of Zimbabwe', 'common': 'Zimbabwe'},\n",
       "    'sna': {'official': 'Republic of Zimbabwe', 'common': 'Zimbabwe'},\n",
       "    'sot': {'official': 'Republic of Zimbabwe', 'common': 'Zimbabwe'},\n",
       "    'toi': {'official': 'Republic of Zimbabwe', 'common': 'Zimbabwe'},\n",
       "    'tsn': {'official': 'Republic of Zimbabwe', 'common': 'Zimbabwe'},\n",
       "    'tso': {'official': 'Republic of Zimbabwe', 'common': 'Zimbabwe'},\n",
       "    'ven': {'official': 'Republic of Zimbabwe', 'common': 'Zimbabwe'},\n",
       "    'xho': {'official': 'Republic of Zimbabwe', 'common': 'Zimbabwe'},\n",
       "    'zib': {'official': 'Republic of Zimbabwe', 'common': 'Zimbabwe'}}},\n",
       "  'numFields': 15}]"
      ]
     },
     "execution_count": 68,
     "metadata": {},
     "output_type": "execute_result"
    }
   ],
   "source": [
    "def find_by_native_name_count(n=1):\n",
    "    pipeline = [\n",
    "        {\n",
    "            \"$project\": {\n",
    "                \"numFields\": { \"$size\": { \"$objectToArray\": \"$name.nativeName\" } },\n",
    "                \"name.common\": 1,\n",
    "                \"name.nativeName\": 1\n",
    "            }\n",
    "        },\n",
    "        {\n",
    "            \"$match\": {\n",
    "                \"numFields\": n  # Filter documents where numFields is equal to 1\n",
    "            }\n",
    "        }\n",
    "    ]\n",
    "    return list(names.aggregate(pipeline))\n",
    "\n",
    "find_by_native_name_count(15)    "
   ]
  },
  {
   "cell_type": "code",
   "execution_count": 69,
   "metadata": {},
   "outputs": [
    {
     "data": {
      "text/plain": [
       "[{'_id': ObjectId('676c8e56c33bd7b879a191ce'),\n",
       "  'name': {'common': 'Antarctica', 'nativeName': {}},\n",
       "  'numFields': 0}]"
      ]
     },
     "execution_count": 69,
     "metadata": {},
     "output_type": "execute_result"
    }
   ],
   "source": [
    "find_by_native_name_count(0)"
   ]
  },
  {
   "cell_type": "code",
   "execution_count": 70,
   "metadata": {},
   "outputs": [
    {
     "data": {
      "text/plain": [
       "[{'_id': ObjectId('676c8e56c33bd7b879a191a1'),\n",
       "  'name': {'common': 'South Africa',\n",
       "   'nativeName': {'afr': {'official': 'Republiek van Suid-Afrika',\n",
       "     'common': 'South Africa'},\n",
       "    'eng': {'official': 'Republic of South Africa', 'common': 'South Africa'},\n",
       "    'nbl': {'official': 'IRiphabliki yeSewula Afrika',\n",
       "     'common': 'Sewula Afrika'},\n",
       "    'nso': {'official': 'Rephaboliki ya Afrika-Borwa ',\n",
       "     'common': 'Afrika-Borwa'},\n",
       "    'sot': {'official': 'Rephaboliki ya Afrika Borwa',\n",
       "     'common': 'Afrika Borwa'},\n",
       "    'ssw': {'official': 'IRiphabhulikhi yeNingizimu Afrika',\n",
       "     'common': 'Ningizimu Afrika'},\n",
       "    'tsn': {'official': 'Rephaboliki ya Aforika Borwa',\n",
       "     'common': 'Aforika Borwa'},\n",
       "    'tso': {'official': 'Riphabliki ra Afrika Dzonga',\n",
       "     'common': 'Afrika Dzonga'},\n",
       "    'ven': {'official': 'Riphabuḽiki ya Afurika Tshipembe',\n",
       "     'common': 'Afurika Tshipembe'},\n",
       "    'xho': {'official': 'IRiphabliki yaseMzantsi Afrika',\n",
       "     'common': 'Mzantsi Afrika'},\n",
       "    'zul': {'official': 'IRiphabliki yaseNingizimu Afrika',\n",
       "     'common': 'Ningizimu Afrika'}}},\n",
       "  'numFields': 11}]"
      ]
     },
     "execution_count": 70,
     "metadata": {},
     "output_type": "execute_result"
    }
   ],
   "source": [
    "find_by_native_name_count(11)"
   ]
  },
  {
   "cell_type": "code",
   "execution_count": 83,
   "metadata": {},
   "outputs": [
    {
     "data": {
      "text/html": [
       "<div>\n",
       "<style scoped>\n",
       "    .dataframe tbody tr th:only-of-type {\n",
       "        vertical-align: middle;\n",
       "    }\n",
       "\n",
       "    .dataframe tbody tr th {\n",
       "        vertical-align: top;\n",
       "    }\n",
       "\n",
       "    .dataframe thead th {\n",
       "        text-align: right;\n",
       "    }\n",
       "</style>\n",
       "<table border=\"1\" class=\"dataframe\">\n",
       "  <thead>\n",
       "    <tr style=\"text-align: right;\">\n",
       "      <th></th>\n",
       "      <th>language</th>\n",
       "      <th>count</th>\n",
       "    </tr>\n",
       "  </thead>\n",
       "  <tbody>\n",
       "    <tr>\n",
       "      <th>0</th>\n",
       "      <td>eng</td>\n",
       "      <td>90</td>\n",
       "    </tr>\n",
       "    <tr>\n",
       "      <th>1</th>\n",
       "      <td>fra</td>\n",
       "      <td>46</td>\n",
       "    </tr>\n",
       "    <tr>\n",
       "      <th>2</th>\n",
       "      <td>ara</td>\n",
       "      <td>25</td>\n",
       "    </tr>\n",
       "    <tr>\n",
       "      <th>3</th>\n",
       "      <td>spa</td>\n",
       "      <td>24</td>\n",
       "    </tr>\n",
       "    <tr>\n",
       "      <th>4</th>\n",
       "      <td>por</td>\n",
       "      <td>10</td>\n",
       "    </tr>\n",
       "  </tbody>\n",
       "</table>\n",
       "</div>"
      ],
      "text/plain": [
       "  language  count\n",
       "0      eng     90\n",
       "1      fra     46\n",
       "2      ara     25\n",
       "3      spa     24\n",
       "4      por     10"
      ]
     },
     "execution_count": 83,
     "metadata": {},
     "output_type": "execute_result"
    }
   ],
   "source": [
    "# most common language amount all the countries\n",
    "\n",
    "pipeline = [\n",
    "    {\n",
    "        \"$project\": {\n",
    "            \"lang\": { \"$objectToArray\": \"$name.nativeName\" },\n",
    "        }\n",
    "    },\n",
    "\n",
    "    {\n",
    "        \"$unwind\": \"$lang\"\n",
    "    },\n",
    "\n",
    "    {\n",
    "        \"$group\": {\n",
    "            \"_id\" : \"$lang.k\",\n",
    "            \"count\": {\"$sum\": 1}\n",
    "        }\n",
    "    },\n",
    "\n",
    "    {\n",
    "        \"$sort\": {\"count\": -1}\n",
    "    }\n",
    "]\n",
    "\n",
    "lang_count = pd.DataFrame(list(names.aggregate(pipeline))).rename(columns={'_id': 'language'})\n",
    "lang_count.head()"
   ]
  },
  {
   "cell_type": "code",
   "execution_count": 90,
   "metadata": {},
   "outputs": [
    {
     "data": {
      "text/plain": [
       "<Axes: ylabel='language'>"
      ]
     },
     "execution_count": 90,
     "metadata": {},
     "output_type": "execute_result"
    },
    {
     "data": {
      "image/png": "[encoded data removed]",
      "text/plain": [
       "<Figure size 640x480 with 1 Axes>"
      ]
     },
     "metadata": {},
     "output_type": "display_data"
    }
   ],
   "source": [
    "# top ten most used languages\n",
    "lang_count.iloc[:10].plot(x='language', y='count', kind='barh')"
   ]
  },
  {
   "cell_type": "code",
   "execution_count": 91,
   "metadata": {},
   "outputs": [
    {
     "data": {
      "text/plain": [
       "306"
      ]
     },
     "execution_count": 91,
     "metadata": {},
     "output_type": "execute_result"
    }
   ],
   "source": [
    "lang_count.size"
   ]
  },
  {
   "cell_type": "code",
   "execution_count": 102,
   "metadata": {},
   "outputs": [
    {
     "data": {
      "text/plain": [
       "[{'_id': 1, 'count': 181},\n",
       " {'_id': 2, 'count': 45},\n",
       " {'_id': 3, 'count': 11},\n",
       " {'_id': 4, 'count': 8},\n",
       " {'_id': 5, 'count': 4},\n",
       " {'_id': 7, 'count': 1}]"
      ]
     },
     "execution_count": 102,
     "metadata": {},
     "output_type": "execute_result"
    }
   ],
   "source": [
    "pipeline = [\n",
    "    {\n",
    "        \"$project\": {\n",
    "            \"wordCount\": {\"$size\": {\"$split\": [\"$name.common\", \" \"]}}\n",
    "        }\n",
    "    },\n",
    "\n",
    "    {\n",
    "        \"$group\": {\n",
    "            \"_id\": \"$wordCount\",\n",
    "            \"count\": {\"$sum\": 1}\n",
    "        }\n",
    "    },\n",
    "\n",
    "    {\n",
    "        \"$sort\": {\"_id\": 1}\n",
    "    }\n",
    "\n",
    "]\n",
    "\n",
    "list(names.aggregate(pipeline))"
   ]
  },
  {
   "cell_type": "code",
   "execution_count": 105,
   "metadata": {},
   "outputs": [
    {
     "data": {
      "text/plain": [
       "[{'_id': ObjectId('676c8e56c33bd7b879a19227'),\n",
       "  'wordCount': 7,\n",
       "  'country': 'Saint Helena, Ascension and Tristan da Cunha'}]"
      ]
     },
     "execution_count": 105,
     "metadata": {},
     "output_type": "execute_result"
    }
   ],
   "source": [
    "# find the longest common name of a country\n",
    "\n",
    "pipeline = [\n",
    "    {\n",
    "        \"$project\": {\n",
    "            \"wordCount\": {\"$size\": {\"$split\": [\"$name.common\", \" \"]}},\n",
    "            \"country\" : \"$name.common\"\n",
    "        }\n",
    "    },\n",
    "\n",
    "    {\n",
    "        \"$match\": {\n",
    "            \"wordCount\": 7\n",
    "        }\n",
    "    }\n",
    "\n",
    "]\n",
    "\n",
    "list(names.aggregate(pipeline))"
   ]
  },
  {
   "cell_type": "code",
   "execution_count": null,
   "metadata": {},
   "outputs": [],
   "source": []
  },
  {
   "cell_type": "code",
   "execution_count": null,
   "metadata": {},
   "outputs": [],
   "source": []
  },
  {
   "cell_type": "code",
   "execution_count": null,
   "metadata": {},
   "outputs": [],
   "source": []
  },
  {
   "cell_type": "code",
   "execution_count": null,
   "metadata": {},
   "outputs": [],
   "source": []
  }
 ],
 "metadata": {
  "kernelspec": {
   "display_name": "Python 3",
   "language": "python",
   "name": "python3"
  },
  "language_info": {
   "codemirror_mode": {
    "name": "ipython",
    "version": 3
   },
   "file_extension": ".py",
   "mimetype": "text/x-python",
   "name": "python",
   "nbconvert_exporter": "python",
   "pygments_lexer": "ipython3",
   "version": "3.10.7"
  }
 },
 "nbformat": 4,
 "nbformat_minor": 2
}
